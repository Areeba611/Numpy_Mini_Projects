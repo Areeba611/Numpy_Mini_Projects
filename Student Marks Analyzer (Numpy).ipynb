{
 "cells": [
  {
   "cell_type": "code",
   "execution_count": 3,
   "id": "f5fe623c-742d-4f61-a808-65c202fb847f",
   "metadata": {},
   "outputs": [
    {
     "name": "stdout",
     "output_type": "stream",
     "text": [
      " Subject Averages:\n",
      "Maths: 74.33\n",
      "Physics: 66.33\n",
      "Chemistry: 43.00\n",
      "\n",
      " Best Student: Areeba\n",
      "Subject with lowest average: Chemistry\n"
     ]
    }
   ],
   "source": [
    "import numpy as np\n",
    "\n",
    "students = ['Ayita', 'Areeba', 'Ali']\n",
    "subjects = ['Maths', 'Physics', 'Chemistry']\n",
    "\n",
    "marks = np.array([[45, 67, 19],[88, 67, 60],[90, 65, 50]])\n",
    "\n",
    "subject_avg = np.mean(marks, axis=0)\n",
    "\n",
    "print(\" Subject Averages:\")\n",
    "for i in range(len(subjects)):\n",
    "    print(f\"{subjects[i]}: {subject_avg[i]:.2f}\")\n",
    "\n",
    "best_index = np.argmax(np.sum(marks, axis=1))\n",
    "\n",
    "print(f\"\\n Best Student: {students[best_index]}\")\n",
    "\n",
    "lowest = np.argmin(subject_avg)\n",
    "print(f\"Subject with lowest average: {subjects[lowest]}\")\n"
   ]
  },
  {
   "cell_type": "code",
   "execution_count": null,
   "id": "ced1cc81-fa3b-4758-8bac-2e5877361681",
   "metadata": {},
   "outputs": [],
   "source": []
  }
 ],
 "metadata": {
  "kernelspec": {
   "display_name": "Python 3 (ipykernel)",
   "language": "python",
   "name": "python3"
  },
  "language_info": {
   "codemirror_mode": {
    "name": "ipython",
    "version": 3
   },
   "file_extension": ".py",
   "mimetype": "text/x-python",
   "name": "python",
   "nbconvert_exporter": "python",
   "pygments_lexer": "ipython3",
   "version": "3.13.5"
  }
 },
 "nbformat": 4,
 "nbformat_minor": 5
}

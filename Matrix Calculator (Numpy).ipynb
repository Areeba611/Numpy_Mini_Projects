{
 "cells": [
  {
   "cell_type": "code",
   "execution_count": 40,
   "id": "b0bee609-1e2f-4836-a058-0a35ee890ed0",
   "metadata": {
    "scrolled": true
   },
   "outputs": [
    {
     "name": "stdout",
     "output_type": "stream",
     "text": [
      " Addition:\n",
      " [[ 3  9]\n",
      " [11  7]]\n",
      " Subtraction:\n",
      " [[ 1 -3]\n",
      " [-3  3]]\n",
      " Multiplication:\n",
      " [[23 18]\n",
      " [39 34]]\n",
      "Division:\n",
      " Division Result:\n",
      " [[2.         0.5       ]\n",
      " [0.57142857 2.5       ]]\n",
      " Transpose of A:\n",
      " [[2 4]\n",
      " [3 5]]\n",
      " Transpose of B:\n",
      " [[1 7]\n",
      " [6 2]]\n",
      " Determinant: -2.0\n",
      " Inverse:\n",
      " [[-2.5  1.5]\n",
      " [ 2.  -1. ]]\n"
     ]
    }
   ],
   "source": [
    "import numpy as np\n",
    "\n",
    "A = np.array([[2, 3], [4, 5]])\n",
    "B = np.array([[1, 6], [7, 2]])\n",
    "\n",
    "print(\" Addition:\\n\", A + B)\n",
    "print(\" Subtraction:\\n\" , A-B)\n",
    "print(\" Multiplication:\\n\", np.dot(A, B))\n",
    "print(\"Division:\")\n",
    "try:\n",
    "        result = np.divide(A, B)\n",
    "        print(\" Division Result:\\n\", result)\n",
    "except FloatingPointError:\n",
    "    print(\" Error: Division by zero or invalid value encountered!\")\n",
    "except Exception as e:\n",
    "    print(\" An unexpected error occurred:\", e)\n",
    "  \n",
    "print(\" Transpose of A:\\n\", A.T)\n",
    "print(\" Transpose of B:\\n\", B.T)\n",
    "det = np.linalg.det(A)\n",
    "print(f\" Determinant: {det}\")\n",
    "\n",
    "if det == 0:\n",
    "    print(\" Matrix is singular (det = 0)\")\n",
    "else:\n",
    "    A_inv = np.linalg.inv(A)\n",
    "    print(\" Inverse:\\n\", A_inv)\n"
   ]
  },
  {
   "cell_type": "code",
   "execution_count": null,
   "id": "c6089eaa-ee67-4db3-9d9b-019cfede5204",
   "metadata": {},
   "outputs": [],
   "source": []
  }
 ],
 "metadata": {
  "kernelspec": {
   "display_name": "Python 3 (ipykernel)",
   "language": "python",
   "name": "python3"
  },
  "language_info": {
   "codemirror_mode": {
    "name": "ipython",
    "version": 3
   },
   "file_extension": ".py",
   "mimetype": "text/x-python",
   "name": "python",
   "nbconvert_exporter": "python",
   "pygments_lexer": "ipython3",
   "version": "3.13.5"
  }
 },
 "nbformat": 4,
 "nbformat_minor": 5
}
